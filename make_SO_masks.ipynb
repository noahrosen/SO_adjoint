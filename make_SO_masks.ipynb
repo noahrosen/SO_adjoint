{
 "cells": [
  {
   "cell_type": "code",
   "execution_count": 1,
   "id": "a6dcd853-7adb-4ff0-8dd2-8524ac5dc001",
   "metadata": {},
   "outputs": [],
   "source": [
    "# Notebook to generate .bin mask files for emu\n",
    "import xarray as xr\n",
    "import matplotlib.pyplot as plt\n",
    "import sys\n",
    "sys.path.append('/glade/u/home/noahrose/ECCOv4-py/')\n",
    "import ecco_v4_py as ecco\n",
    "import numpy as np"
   ]
  },
  {
   "cell_type": "code",
   "execution_count": 2,
   "id": "04b8f4c9-f4cc-4e66-b486-1f85c4684edb",
   "metadata": {},
   "outputs": [],
   "source": [
    "grid = xr.open_dataset('/glade/work/noahrose/ECCOV4r4/ECCO-GRID.nc')"
   ]
  },
  {
   "cell_type": "code",
   "execution_count": 3,
   "id": "7d68eb3f-e195-4c9c-9577-916a472cfdce",
   "metadata": {},
   "outputs": [],
   "source": [
    "vol_mask = grid.rA*grid.drF*grid.hFacC"
   ]
  },
  {
   "cell_type": "code",
   "execution_count": 20,
   "id": "018f2ed4-3bdd-4b70-9ffe-5fa175cde6d7",
   "metadata": {},
   "outputs": [],
   "source": [
    "vol_mask_so = vol_mask.where((grid.YC <= -48)\n",
    "                             & (grid.YC >= -61)\n",
    "                             & (grid.Z >= -250))\n",
    "vol_mask_so = vol_mask_so.fillna(0)\n",
    "\n",
    "vol_mask_so /= vol_mask_so.sum()"
   ]
  },
  {
   "cell_type": "code",
   "execution_count": 21,
   "id": "913e8b84-d0a2-4d5b-b9e6-9a90da77c4c5",
   "metadata": {},
   "outputs": [],
   "source": [
    "vol_mask_atl = vol_mask_so.where((grid.XC < 20)\n",
    "                                 & (grid.XC >= -60)).fillna(0)\n",
    "vol_mask_atl /= vol_mask_atl.sum()"
   ]
  },
  {
   "cell_type": "code",
   "execution_count": 22,
   "id": "f8ba7426-00ed-4803-b80a-07e6555cdd40",
   "metadata": {},
   "outputs": [],
   "source": [
    "vol_mask_pac = vol_mask_so.where((grid.XC < -60)\n",
    "                                 | (grid.XC >= 160)).fillna(0)\n",
    "vol_mask_pac /= vol_mask_pac.sum()"
   ]
  },
  {
   "cell_type": "code",
   "execution_count": 23,
   "id": "f5591eb6-171f-404a-bfb7-953555c7e5b3",
   "metadata": {},
   "outputs": [],
   "source": [
    "vol_mask_ind = vol_mask_so.where((grid.XC < 160)\n",
    "                                 & (grid.XC >= 20)).fillna(0)\n",
    "vol_mask_ind /= vol_mask_ind.sum()"
   ]
  },
  {
   "cell_type": "code",
   "execution_count": 26,
   "id": "c6737be6-8b82-4cd4-9a93-3f76ea866782",
   "metadata": {},
   "outputs": [
    {
     "name": "stdout",
     "output_type": "stream",
     "text": [
      "llc_tiles_to_faces: num_tiles,  13\n",
      "llc_faces_to_compact: face 3 shape (50, 90, 90)\n",
      "llc_faces_to_compact: data_compact array shape (50, 1170, 90)\n",
      "llc_faces_to_compact: data_compact array shape (50, 1170, 90)\n",
      "llc_faces_to_compact: data_compact array dtype float32\n",
      "llc_tiles_to_faces: num_tiles,  13\n",
      "llc_faces_to_compact: face 3 shape (50, 90, 90)\n",
      "llc_faces_to_compact: data_compact array shape (50, 1170, 90)\n",
      "llc_faces_to_compact: data_compact array shape (50, 1170, 90)\n",
      "llc_faces_to_compact: data_compact array dtype float32\n",
      "llc_tiles_to_faces: num_tiles,  13\n",
      "llc_faces_to_compact: face 3 shape (50, 90, 90)\n",
      "llc_faces_to_compact: data_compact array shape (50, 1170, 90)\n",
      "llc_faces_to_compact: data_compact array shape (50, 1170, 90)\n",
      "llc_faces_to_compact: data_compact array dtype float32\n",
      "llc_tiles_to_faces: num_tiles,  13\n",
      "llc_faces_to_compact: face 3 shape (50, 90, 90)\n",
      "llc_faces_to_compact: data_compact array shape (50, 1170, 90)\n",
      "llc_faces_to_compact: data_compact array shape (50, 1170, 90)\n",
      "llc_faces_to_compact: data_compact array dtype float32\n"
     ]
    }
   ],
   "source": [
    "mask_compact = ecco.llc_tiles_to_compact(vol_mask_so.transpose('k','tile','j','i'))\n",
    "mask_compact.astype('>f4').tofile('SO_T250_full_mask.bin')\n",
    "mask_compact = ecco.llc_tiles_to_compact(vol_mask_atl.transpose('k','tile','j','i'))\n",
    "mask_compact.astype('>f4').tofile('SO_T250_Atl_mask.bin')\n",
    "mask_compact = ecco.llc_tiles_to_compact(vol_mask_pac.transpose('k','tile','j','i'))\n",
    "mask_compact.astype('>f4').tofile('SO_T250_Pac_mask.bin')\n",
    "mask_compact = ecco.llc_tiles_to_compact(vol_mask_ind.transpose('k','tile','j','i'))\n",
    "mask_compact.astype('>f4').tofile('SO_T250_Ind_mask.bin')"
   ]
  },
  {
   "cell_type": "code",
   "execution_count": null,
   "id": "9e122ea2-4fc0-4cd8-85d8-8e5d72499076",
   "metadata": {},
   "outputs": [],
   "source": []
  }
 ],
 "metadata": {
  "kernelspec": {
   "display_name": "Python [conda env:eccotools]",
   "language": "python",
   "name": "conda-env-eccotools-py"
  },
  "language_info": {
   "codemirror_mode": {
    "name": "ipython",
    "version": 3
   },
   "file_extension": ".py",
   "mimetype": "text/x-python",
   "name": "python",
   "nbconvert_exporter": "python",
   "pygments_lexer": "ipython3",
   "version": "3.13.0"
  }
 },
 "nbformat": 4,
 "nbformat_minor": 5
}
