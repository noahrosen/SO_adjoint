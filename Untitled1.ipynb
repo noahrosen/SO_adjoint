{
 "cells": [
  {
   "cell_type": "code",
   "execution_count": null,
   "id": "65e7da3b-c6d1-45cc-8d33-810e81a80afd",
   "metadata": {},
   "outputs": [],
   "source": []
  }
 ],
 "metadata": {
  "kernelspec": {
   "display_name": "Python [conda env:eccotools]",
   "language": "python",
   "name": "conda-env-eccotools-py"
  },
  "language_info": {
   "codemirror_mode": {
    "name": "ipython",
    "version": 3
   },
   "file_extension": ".py",
   "mimetype": "text/x-python",
   "name": "python",
   "nbconvert_exporter": "python",
   "pygments_lexer": "ipython3",
   "version": "3.13.0"
  }
 },
 "nbformat": 4,
 "nbformat_minor": 5
}
